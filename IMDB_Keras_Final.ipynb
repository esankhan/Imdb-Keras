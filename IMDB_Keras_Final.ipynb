{
  "nbformat": 4,
  "nbformat_minor": 0,
  "metadata": {
    "colab": {
      "name": "IMDB_Keras_Final.ipynb",
      "provenance": [],
      "collapsed_sections": [],
      "authorship_tag": "ABX9TyOwAy5pBPa0PQpCc7I0AHUM"
    },
    "kernelspec": {
      "name": "python3",
      "display_name": "Python 3"
    },
    "accelerator": "GPU"
  },
  "cells": [
    {
      "cell_type": "markdown",
      "metadata": {
        "id": "ThAMo3Bet1_0",
        "colab_type": "text"
      },
      "source": [
        "**Analyzing IMDB data in Keras**\n",
        "\n"
      ]
    },
    {
      "cell_type": "code",
      "metadata": {
        "id": "gAyexr8Kt9ic",
        "colab_type": "code",
        "outputId": "1dcb5603-fc30-4fe9-c5e5-64bd7882c43f",
        "colab": {
          "base_uri": "https://localhost:8080/",
          "height": 81
        }
      },
      "source": [
        "import numpy as np\n",
        "import keras\n",
        "from keras.datasets import imdb\n",
        "from keras.models import Sequential\n",
        "from keras.layers import Dense, Dropout, Activation, BatchNormalization\n",
        "from keras.preprocessing.text import Tokenizer\n",
        "%matplotlib inline\n",
        "\n",
        "np.random.seed(5)"
      ],
      "execution_count": 0,
      "outputs": [
        {
          "output_type": "stream",
          "text": [
            "Using TensorFlow backend.\n"
          ],
          "name": "stderr"
        },
        {
          "output_type": "display_data",
          "data": {
            "text/html": [
              "<p style=\"color: red;\">\n",
              "The default version of TensorFlow in Colab will soon switch to TensorFlow 2.x.<br>\n",
              "We recommend you <a href=\"https://www.tensorflow.org/guide/migrate\" target=\"_blank\">upgrade</a> now \n",
              "or ensure your notebook will continue to use TensorFlow 1.x via the <code>%tensorflow_version 1.x</code> magic:\n",
              "<a href=\"https://colab.research.google.com/notebooks/tensorflow_version.ipynb\" target=\"_blank\">more info</a>.</p>\n"
            ],
            "text/plain": [
              "<IPython.core.display.HTML object>"
            ]
          },
          "metadata": {
            "tags": []
          }
        }
      ]
    },
    {
      "cell_type": "markdown",
      "metadata": {
        "id": "vr6zzppSvozh",
        "colab_type": "text"
      },
      "source": [
        "**Loading data from IMDB** <BR> Data is already preprocessed"
      ]
    },
    {
      "cell_type": "code",
      "metadata": {
        "id": "3V7nAdBAvRJ0",
        "colab_type": "code",
        "outputId": "456e0059-a0e4-4c8c-e534-78387a7d2b12",
        "colab": {
          "base_uri": "https://localhost:8080/",
          "height": 87
        }
      },
      "source": [
        "(x_train, y_train), (x_test, y_test) = imdb.load_data(num_words=2000)\n",
        "\n",
        "print(x_train.shape)\n",
        "print(y_train.shape)"
      ],
      "execution_count": 0,
      "outputs": [
        {
          "output_type": "stream",
          "text": [
            "Downloading data from https://s3.amazonaws.com/text-datasets/imdb.npz\n",
            "17465344/17464789 [==============================] - 0s 0us/step\n",
            "(25000,)\n",
            "(25000,)\n"
          ],
          "name": "stdout"
        }
      ]
    },
    {
      "cell_type": "markdown",
      "metadata": {
        "id": "0ypEqyouwUqo",
        "colab_type": "text"
      },
      "source": [
        "**text data is already in vector form** <BR>\n",
        "In y_train, 1 stands for positive review in 0 for negative "
      ]
    },
    {
      "cell_type": "code",
      "metadata": {
        "id": "DByiXlljwAD7",
        "colab_type": "code",
        "outputId": "5e4485e4-bbfa-4b5b-d970-fcc6e04202d5",
        "colab": {
          "base_uri": "https://localhost:8080/",
          "height": 72
        }
      },
      "source": [
        "print(x_train[1])\n",
        "print(y_train[1])\n"
      ],
      "execution_count": 0,
      "outputs": [
        {
          "output_type": "stream",
          "text": [
            "[1, 194, 1153, 194, 2, 78, 228, 5, 6, 1463, 2, 2, 134, 26, 4, 715, 8, 118, 1634, 14, 394, 20, 13, 119, 954, 189, 102, 5, 207, 110, 2, 21, 14, 69, 188, 8, 30, 23, 7, 4, 249, 126, 93, 4, 114, 9, 2, 1523, 5, 647, 4, 116, 9, 35, 2, 4, 229, 9, 340, 1322, 4, 118, 9, 4, 130, 2, 19, 4, 1002, 5, 89, 29, 952, 46, 37, 4, 455, 9, 45, 43, 38, 1543, 1905, 398, 4, 1649, 26, 2, 5, 163, 11, 2, 2, 4, 1153, 9, 194, 775, 7, 2, 2, 349, 2, 148, 605, 2, 2, 15, 123, 125, 68, 2, 2, 15, 349, 165, 2, 98, 5, 4, 228, 9, 43, 2, 1157, 15, 299, 120, 5, 120, 174, 11, 220, 175, 136, 50, 9, 2, 228, 2, 5, 2, 656, 245, 2, 5, 4, 2, 131, 152, 491, 18, 2, 32, 2, 1212, 14, 9, 6, 371, 78, 22, 625, 64, 1382, 9, 8, 168, 145, 23, 4, 1690, 15, 16, 4, 1355, 5, 28, 6, 52, 154, 462, 33, 89, 78, 285, 16, 145, 95]\n",
            "0\n"
          ],
          "name": "stdout"
        }
      ]
    },
    {
      "cell_type": "code",
      "metadata": {
        "id": "ih4ztfAHwS3V",
        "colab_type": "code",
        "colab": {}
      },
      "source": [
        "#One hot encoding the input data\n",
        "tokenizer = Tokenizer(num_words=2000)\n",
        "x_train = tokenizer.sequences_to_matrix(x_train, mode='binary')\n",
        "x_test = tokenizer.sequences_to_matrix(x_test, mode='binary')"
      ],
      "execution_count": 0,
      "outputs": []
    },
    {
      "cell_type": "code",
      "metadata": {
        "id": "u7SzuWt-yRgh",
        "colab_type": "code",
        "outputId": "91aef01b-1589-4ffb-dfa0-1ce5d7d2a70d",
        "colab": {
          "base_uri": "https://localhost:8080/",
          "height": 35
        }
      },
      "source": [
        "print(x_train[1])"
      ],
      "execution_count": 0,
      "outputs": [
        {
          "output_type": "stream",
          "text": [
            "[0. 1. 1. ... 0. 0. 0.]\n"
          ],
          "name": "stdout"
        }
      ]
    },
    {
      "cell_type": "code",
      "metadata": {
        "id": "Dqz7qB88zPkb",
        "colab_type": "code",
        "outputId": "8a72fe8f-adf8-418e-ba27-8a760af3e8e5",
        "colab": {
          "base_uri": "https://localhost:8080/",
          "height": 69
        }
      },
      "source": [
        "#One hot encoding output data\n",
        "num_classes = 2\n",
        "y_train = keras.utils.to_categorical(y_train, num_classes)\n",
        "y_test = keras.utils.to_categorical(y_test, num_classes)\n",
        "print(y_train.shape)\n",
        "print(y_test.shape)\n",
        "print(y_train[1])"
      ],
      "execution_count": 0,
      "outputs": [
        {
          "output_type": "stream",
          "text": [
            "(25000, 2)\n",
            "(25000, 2)\n",
            "[1. 0.]\n"
          ],
          "name": "stdout"
        }
      ]
    },
    {
      "cell_type": "markdown",
      "metadata": {
        "id": "GW8x9Y2K0nhG",
        "colab_type": "text"
      },
      "source": [
        "**Building model**"
      ]
    },
    {
      "cell_type": "code",
      "metadata": {
        "id": "dy--c7HG0wNw",
        "colab_type": "code",
        "outputId": "cf823e4e-b7d7-4a4f-85c5-98ae30eddbcb",
        "colab": {
          "base_uri": "https://localhost:8080/",
          "height": 260
        }
      },
      "source": [
        "#Building model architexture\n",
        "model = Sequential()\n",
        "model.add(Dense(512, activation='relu',input_dim=2000))\n",
        "model.add(Dropout(0.8))\n",
        "model.add(Dense(num_classes,activation='softmax',))\n",
        "model.summary()\n",
        "\n",
        "#Compliling model using categorical_crossentropy loss and rmsprop optimizer\n",
        "model.compile(loss='categorical_crossentropy',optimizer='rmsprop',metrics=['accuracy'])"
      ],
      "execution_count": 0,
      "outputs": [
        {
          "output_type": "stream",
          "text": [
            "Model: \"sequential_21\"\n",
            "_________________________________________________________________\n",
            "Layer (type)                 Output Shape              Param #   \n",
            "=================================================================\n",
            "dense_55 (Dense)             (None, 512)               1024512   \n",
            "_________________________________________________________________\n",
            "dropout_30 (Dropout)         (None, 512)               0         \n",
            "_________________________________________________________________\n",
            "dense_56 (Dense)             (None, 2)                 1026      \n",
            "=================================================================\n",
            "Total params: 1,025,538\n",
            "Trainable params: 1,025,538\n",
            "Non-trainable params: 0\n",
            "_________________________________________________________________\n"
          ],
          "name": "stdout"
        }
      ]
    },
    {
      "cell_type": "markdown",
      "metadata": {
        "id": "uo3X7Hqo2dba",
        "colab_type": "text"
      },
      "source": [
        "**Training Model**\n"
      ]
    },
    {
      "cell_type": "code",
      "metadata": {
        "id": "koxo2M0u2W2Y",
        "colab_type": "code",
        "outputId": "d4a1d303-7540-42a1-978f-f03c8c46969c",
        "colab": {
          "base_uri": "https://localhost:8080/",
          "height": 381
        }
      },
      "source": [
        "trained = model.fit(x_train,y_train,batch_size=32,epochs=10,validation_data=(x_test,y_test),verbose=2)"
      ],
      "execution_count": 0,
      "outputs": [
        {
          "output_type": "stream",
          "text": [
            "Train on 25000 samples, validate on 25000 samples\n",
            "Epoch 1/10\n",
            " - 8s - loss: 0.4188 - acc: 0.8192 - val_loss: 0.3133 - val_acc: 0.8763\n",
            "Epoch 2/10\n",
            " - 6s - loss: 0.3492 - acc: 0.8707 - val_loss: 0.3503 - val_acc: 0.8673\n",
            "Epoch 3/10\n",
            " - 6s - loss: 0.3383 - acc: 0.8786 - val_loss: 0.3255 - val_acc: 0.8793\n",
            "Epoch 4/10\n",
            " - 6s - loss: 0.3290 - acc: 0.8865 - val_loss: 0.3317 - val_acc: 0.8794\n",
            "Epoch 5/10\n",
            " - 6s - loss: 0.3261 - acc: 0.8876 - val_loss: 0.3517 - val_acc: 0.8693\n",
            "Epoch 6/10\n",
            " - 6s - loss: 0.3237 - acc: 0.8883 - val_loss: 0.3310 - val_acc: 0.8792\n",
            "Epoch 7/10\n",
            " - 6s - loss: 0.3186 - acc: 0.8906 - val_loss: 0.3337 - val_acc: 0.8778\n",
            "Epoch 8/10\n",
            " - 6s - loss: 0.3207 - acc: 0.8911 - val_loss: 0.3416 - val_acc: 0.8792\n",
            "Epoch 9/10\n",
            " - 6s - loss: 0.3214 - acc: 0.8897 - val_loss: 0.3370 - val_acc: 0.8787\n",
            "Epoch 10/10\n",
            " - 6s - loss: 0.3247 - acc: 0.8908 - val_loss: 0.3459 - val_acc: 0.8761\n"
          ],
          "name": "stdout"
        }
      ]
    },
    {
      "cell_type": "code",
      "metadata": {
        "id": "s3jdMt8f2yO-",
        "colab_type": "code",
        "outputId": "020256c2-6b1f-4317-f8e9-7f9de8b03442",
        "colab": {
          "base_uri": "https://localhost:8080/",
          "height": 35
        }
      },
      "source": [
        "score = model.evaluate(x_test, y_test, verbose=0)\n",
        "print(\"Accuracy: \", score[1])"
      ],
      "execution_count": 0,
      "outputs": [
        {
          "output_type": "stream",
          "text": [
            "Accuracy:  0.87612\n"
          ],
          "name": "stdout"
        }
      ]
    },
    {
      "cell_type": "code",
      "metadata": {
        "id": "mRxorrBr6Xxz",
        "colab_type": "code",
        "colab": {}
      },
      "source": [
        ""
      ],
      "execution_count": 0,
      "outputs": []
    }
  ]
}